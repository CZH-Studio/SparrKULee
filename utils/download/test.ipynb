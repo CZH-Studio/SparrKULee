{
 "cells": [
  {
   "cell_type": "code",
   "id": "initial_id",
   "metadata": {
    "collapsed": true,
    "ExecuteTime": {
     "end_time": "2025-06-24T07:22:32.256336Z",
     "start_time": "2025-06-24T07:22:32.252705Z"
    }
   },
   "source": [
    "import re\n",
    "str1 = 'audiobook_10_1.data_dict'\n",
    "pattern = r'^(audiobook|podcast)_[0-9a-zA-Z_]+\\.data_dict$'\n",
    "compiled = re.compile(pattern)\n",
    "m = compiled.fullmatch(str1)\n",
    "print(m.groups())"
   ],
   "outputs": [
    {
     "name": "stdout",
     "output_type": "stream",
     "text": [
      "('audiobook',)\n"
     ]
    }
   ],
   "execution_count": 9
  },
  {
   "metadata": {
    "ExecuteTime": {
     "end_time": "2025-06-24T07:22:41.581402Z",
     "start_time": "2025-06-24T07:22:41.578444Z"
    }
   },
   "cell_type": "code",
   "source": [
    "str2 = 'derivatives/preprocessed_eeg'\n",
    "print(str2.format(*m.groups()))"
   ],
   "id": "15c0abcbd3d7f600",
   "outputs": [
    {
     "name": "stdout",
     "output_type": "stream",
     "text": [
      "derivatives/preprocessed_eeg\n"
     ]
    }
   ],
   "execution_count": 10
  },
  {
   "metadata": {},
   "cell_type": "code",
   "outputs": [],
   "execution_count": null,
   "source": [
    "import json\n",
    "from pathlib import Path\n",
    "content_path = '/home/czh/code/SparrKULee/utils/download/content.json'\n",
    "with open(content_path) as f:\n",
    "    data_dict = json.load(f)\n",
    "print(data_dict)"
   ],
   "id": "928eac66601e1ea"
  }
 ],
 "metadata": {
  "kernelspec": {
   "display_name": "Python 3",
   "language": "python",
   "name": "python3"
  },
  "language_info": {
   "codemirror_mode": {
    "name": "ipython",
    "version": 2
   },
   "file_extension": ".py",
   "mimetype": "text/x-python",
   "name": "python",
   "nbconvert_exporter": "python",
   "pygments_lexer": "ipython2",
   "version": "2.7.6"
  }
 },
 "nbformat": 4,
 "nbformat_minor": 5
}
